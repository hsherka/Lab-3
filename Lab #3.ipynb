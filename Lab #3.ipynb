{
 "cells": [
  {
   "cell_type": "markdown",
   "metadata": {},
   "source": [
    "### Hanan Sherka \n",
    "### Statistical Analysis of Lottery Aid to Education in New York With PANDAS\n",
    "### 09.25.18"
   ]
  },
  {
   "cell_type": "markdown",
   "metadata": {},
   "source": [
    "## Abstract"
   ]
  },
  {
   "cell_type": "markdown",
   "metadata": {},
   "source": [
    "In this lab, I took data on New York's distribution of lottery money towards school aid in the years 2002 - 2017. From this, I looked for and found the most aid given, the least aid given, average aid given, median aid given to each school district, and the difference between the minimum and maximum amount of aid given. I got this data from data.gov, I know it is reputable because it is a government website. This is the link to the untouched data set https://data.ny.gov/api/views/9ypc-vjig/rows.csv . "
   ]
  },
  {
   "cell_type": "markdown",
   "metadata": {},
   "source": [
    "## Dataset Preparation "
   ]
  },
  {
   "cell_type": "markdown",
   "metadata": {},
   "source": [
    "I opened the data file of Lottery Aid to Education Data and made it a dataframe and data structure. "
   ]
  },
  {
   "cell_type": "code",
   "execution_count": 35,
   "metadata": {},
   "outputs": [],
   "source": [
    "#always include aliased packages\n",
    "import math as m \n",
    "import numpy as np\n",
    "import scipy as sp \n",
    "import pandas as pd\n",
    "import matplotlib as mpl\n",
    "import matplotlib.pyplot as plt \n",
    "import seaborn as sns\n"
   ]
  },
  {
   "cell_type": "code",
   "execution_count": 36,
   "metadata": {},
   "outputs": [],
   "source": [
    "#one line to open and read a csv file into a date frame data structure, and replace the header names \n",
    "headernames = [\"bfy\", \"efy\",\"county\",\"school_district\", \"aid\"]\n",
    "df= pd.read_csv(\"LATE_original.csv\", names = headernames, header = 0)"
   ]
  },
  {
   "cell_type": "code",
   "execution_count": 37,
   "metadata": {},
   "outputs": [
    {
     "data": {
      "text/html": [
       "<div>\n",
       "<style scoped>\n",
       "    .dataframe tbody tr th:only-of-type {\n",
       "        vertical-align: middle;\n",
       "    }\n",
       "\n",
       "    .dataframe tbody tr th {\n",
       "        vertical-align: top;\n",
       "    }\n",
       "\n",
       "    .dataframe thead th {\n",
       "        text-align: right;\n",
       "    }\n",
       "</style>\n",
       "<table border=\"1\" class=\"dataframe\">\n",
       "  <thead>\n",
       "    <tr style=\"text-align: right;\">\n",
       "      <th></th>\n",
       "      <th>bfy</th>\n",
       "      <th>efy</th>\n",
       "      <th>county</th>\n",
       "      <th>school_district</th>\n",
       "      <th>aid</th>\n",
       "    </tr>\n",
       "  </thead>\n",
       "  <tbody>\n",
       "    <tr>\n",
       "      <th>0</th>\n",
       "      <td>2002</td>\n",
       "      <td>2003</td>\n",
       "      <td>albany</td>\n",
       "      <td>Albany</td>\n",
       "      <td>7242297.04</td>\n",
       "    </tr>\n",
       "    <tr>\n",
       "      <th>1</th>\n",
       "      <td>2002</td>\n",
       "      <td>2003</td>\n",
       "      <td>albany</td>\n",
       "      <td>Berne-Knox-Westerlo</td>\n",
       "      <td>874046.94</td>\n",
       "    </tr>\n",
       "    <tr>\n",
       "      <th>2</th>\n",
       "      <td>2002</td>\n",
       "      <td>2003</td>\n",
       "      <td>albany</td>\n",
       "      <td>Bethlehem</td>\n",
       "      <td>2786954.71</td>\n",
       "    </tr>\n",
       "    <tr>\n",
       "      <th>3</th>\n",
       "      <td>2002</td>\n",
       "      <td>2003</td>\n",
       "      <td>albany</td>\n",
       "      <td>Cohoes</td>\n",
       "      <td>1820297.94</td>\n",
       "    </tr>\n",
       "    <tr>\n",
       "      <th>4</th>\n",
       "      <td>2002</td>\n",
       "      <td>2003</td>\n",
       "      <td>albany</td>\n",
       "      <td>Green Island</td>\n",
       "      <td>241859.93</td>\n",
       "    </tr>\n",
       "  </tbody>\n",
       "</table>\n",
       "</div>"
      ],
      "text/plain": [
       "    bfy   efy             county      school_district         aid\n",
       "0  2002  2003  albany                          Albany  7242297.04\n",
       "1  2002  2003  albany             Berne-Knox-Westerlo   874046.94\n",
       "2  2002  2003  albany                       Bethlehem  2786954.71\n",
       "3  2002  2003  albany                          Cohoes  1820297.94\n",
       "4  2002  2003  albany                    Green Island   241859.93"
      ]
     },
     "execution_count": 37,
     "metadata": {},
     "output_type": "execute_result"
    }
   ],
   "source": [
    "# make it so that all the county names are the same case so they are easier to work with/ recognized by county\n",
    "df['county'] = df['county'].str.lower()\n",
    "df.head ()"
   ]
  },
  {
   "cell_type": "code",
   "execution_count": 38,
   "metadata": {},
   "outputs": [
    {
     "name": "stdout",
     "output_type": "stream",
     "text": [
      "0    2002\n",
      "1    2002\n",
      "2    2002\n",
      "3    2002\n",
      "Name: bfy, dtype: int64\n",
      "0    2003\n",
      "1    2003\n",
      "2    2003\n",
      "3    2003\n",
      "Name: efy, dtype: int64\n",
      "0    albany           \n",
      "1    albany           \n",
      "2    albany           \n",
      "3    albany           \n",
      "Name: county, dtype: object\n",
      "0                 Albany\n",
      "1    Berne-Knox-Westerlo\n",
      "2              Bethlehem\n",
      "3                 Cohoes\n",
      "Name: school_district, dtype: object\n",
      "0    7242297.04\n",
      "1     874046.94\n",
      "2    2786954.71\n",
      "3    1820297.94\n",
      "Name: aid, dtype: float64\n"
     ]
    }
   ],
   "source": [
    "#Test to veryify that it would print the first four values in the list\n",
    "print(df.bfy[:4])\n",
    "print(df.efy[:4]) \n",
    "print(df.county[:4])\n",
    "print(df.school_district[:4])\n",
    "print(df.aid[:4])"
   ]
  },
  {
   "cell_type": "markdown",
   "metadata": {},
   "source": [
    "## Data Modeling"
   ]
  },
  {
   "cell_type": "markdown",
   "metadata": {},
   "source": [
    "I used the numpy package to find the mean, median, max, and min aid given. "
   ]
  },
  {
   "cell_type": "code",
   "execution_count": 39,
   "metadata": {},
   "outputs": [
    {
     "name": "stdout",
     "output_type": "stream",
     "text": [
      "4063464.2532175635\n"
     ]
    }
   ],
   "source": [
    "#use mean method from numpy to find the average aid given \n",
    "aidmean = np.mean(df.aid) \n",
    "\n",
    "print(aidmean)"
   ]
  },
  {
   "cell_type": "code",
   "execution_count": 40,
   "metadata": {},
   "outputs": [
    {
     "name": "stdout",
     "output_type": "stream",
     "text": [
      "1337283719.0\n",
      "105.0\n"
     ]
    }
   ],
   "source": [
    "#use mean method from numpy to find the min and max aid given \n",
    "maxaid = np.max(df.aid)\n",
    "minaid = np.min(df.aid)\n",
    "\n",
    "print(maxaid)\n",
    "print(minaid)"
   ]
  },
  {
   "cell_type": "code",
   "execution_count": 44,
   "metadata": {},
   "outputs": [
    {
     "name": "stdout",
     "output_type": "stream",
     "text": [
      "1474788.94\n"
     ]
    }
   ],
   "source": [
    "#use the median method from numpy to find the median aid given \n",
    "medianaid = np.median(df.aid) \n",
    "print(medianaid)"
   ]
  },
  {
   "cell_type": "code",
   "execution_count": 55,
   "metadata": {},
   "outputs": [
    {
     "name": "stdout",
     "output_type": "stream",
     "text": [
      "1337283614.0\n"
     ]
    }
   ],
   "source": [
    "#use the subtract method from numpy to find the difference between the max and min aid\n",
    "difference = np.subtract(maxaid, minaid)\n",
    "print(difference)"
   ]
  },
  {
   "cell_type": "markdown",
   "metadata": {},
   "source": [
    "## Data Analysis and Conclusion "
   ]
  },
  {
   "cell_type": "markdown",
   "metadata": {},
   "source": [
    " I found that the most aid given to a school district in New York State from lottery funds was \\$1,337,283,719, and the least aid given to a shcool district was \\$105. I did not know how to index a dataframe, so I could not attach these numbers to the specific school district that recieved these amounts. The average aid given was \\$4,063,464.25. Two new things I was able to discover in this lab using the numpy package were the median aid, and the difference of aid given between the district that recieved the most and the district that recieved the least aid. The median aid given was \\$1337283719, and the difference between the max and min aid given to any school district was \\$1337283614. This information made me wonder how a school district could make \\$105 when the average given is millions of dollars more than that. It also made me wonder how the money given to districts from the lottery is distributed. These are questions up for future investigation. \n"
   ]
  },
  {
   "cell_type": "markdown",
   "metadata": {},
   "source": [
    "## Acknowledgements"
   ]
  },
  {
   "cell_type": "markdown",
   "metadata": {},
   "source": [
    "I would like to acknowledge Ms. Sconyers for providing code on how to use the numpy package on the Pandas Practice file. Also, to this website http://cs231n.github.io/python-numpy-tutorial/#numpy-array-indexing for giving a rundown on how to use all the packages in python we have been introduced to so far, and showing many things I could do with these packages. "
   ]
  }
 ],
 "metadata": {
  "kernelspec": {
   "display_name": "Python 3",
   "language": "python",
   "name": "python3"
  },
  "language_info": {
   "codemirror_mode": {
    "name": "ipython",
    "version": 3
   },
   "file_extension": ".py",
   "mimetype": "text/x-python",
   "name": "python",
   "nbconvert_exporter": "python",
   "pygments_lexer": "ipython3",
   "version": "3.6.5"
  }
 },
 "nbformat": 4,
 "nbformat_minor": 2
}
